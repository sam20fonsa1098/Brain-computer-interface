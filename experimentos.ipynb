{
 "cells": [
  {
   "cell_type": "code",
   "execution_count": 241,
   "metadata": {},
   "outputs": [],
   "source": [
    "import pandas as pd\n",
    "import numpy as np\n",
    "import matplotlib.pyplot as plt"
   ]
  },
  {
   "cell_type": "code",
   "execution_count": 242,
   "metadata": {},
   "outputs": [
    {
     "data": {
      "text/html": [
       "<div>\n",
       "<style scoped>\n",
       "    .dataframe tbody tr th:only-of-type {\n",
       "        vertical-align: middle;\n",
       "    }\n",
       "\n",
       "    .dataframe tbody tr th {\n",
       "        vertical-align: top;\n",
       "    }\n",
       "\n",
       "    .dataframe thead th {\n",
       "        text-align: right;\n",
       "    }\n",
       "</style>\n",
       "<table border=\"1\" class=\"dataframe\">\n",
       "  <thead>\n",
       "    <tr style=\"text-align: right;\">\n",
       "      <th></th>\n",
       "      <th>Unnamed: 0</th>\n",
       "      <th>0</th>\n",
       "      <th>1</th>\n",
       "      <th>2</th>\n",
       "      <th>3</th>\n",
       "      <th>4</th>\n",
       "      <th>5</th>\n",
       "      <th>6</th>\n",
       "      <th>7</th>\n",
       "      <th>8</th>\n",
       "      <th>...</th>\n",
       "      <th>61</th>\n",
       "      <th>62</th>\n",
       "      <th>63</th>\n",
       "      <th>64</th>\n",
       "      <th>65</th>\n",
       "      <th>66</th>\n",
       "      <th>67</th>\n",
       "      <th>68</th>\n",
       "      <th>69</th>\n",
       "      <th>70</th>\n",
       "    </tr>\n",
       "  </thead>\n",
       "  <tbody>\n",
       "    <tr>\n",
       "      <th>0</th>\n",
       "      <td>0</td>\n",
       "      <td>3.618</td>\n",
       "      <td>0.687</td>\n",
       "      <td>0.824</td>\n",
       "      <td>0.542</td>\n",
       "      <td>0.394</td>\n",
       "      <td>4.476</td>\n",
       "      <td>2.162</td>\n",
       "      <td>0.369</td>\n",
       "      <td>0.583</td>\n",
       "      <td>...</td>\n",
       "      <td>1.800</td>\n",
       "      <td>0.341</td>\n",
       "      <td>0.888</td>\n",
       "      <td>0.401</td>\n",
       "      <td>0.429</td>\n",
       "      <td>0.264</td>\n",
       "      <td>0.068</td>\n",
       "      <td>0.114</td>\n",
       "      <td>0.046</td>\n",
       "      <td>Esquerda</td>\n",
       "    </tr>\n",
       "    <tr>\n",
       "      <th>1</th>\n",
       "      <td>1</td>\n",
       "      <td>4.341</td>\n",
       "      <td>1.421</td>\n",
       "      <td>0.931</td>\n",
       "      <td>0.643</td>\n",
       "      <td>0.385</td>\n",
       "      <td>4.857</td>\n",
       "      <td>2.668</td>\n",
       "      <td>0.470</td>\n",
       "      <td>0.713</td>\n",
       "      <td>...</td>\n",
       "      <td>2.734</td>\n",
       "      <td>0.543</td>\n",
       "      <td>0.943</td>\n",
       "      <td>0.445</td>\n",
       "      <td>0.507</td>\n",
       "      <td>0.321</td>\n",
       "      <td>0.073</td>\n",
       "      <td>0.118</td>\n",
       "      <td>0.053</td>\n",
       "      <td>Esquerda</td>\n",
       "    </tr>\n",
       "    <tr>\n",
       "      <th>2</th>\n",
       "      <td>2</td>\n",
       "      <td>5.599</td>\n",
       "      <td>2.591</td>\n",
       "      <td>1.225</td>\n",
       "      <td>0.785</td>\n",
       "      <td>0.398</td>\n",
       "      <td>6.259</td>\n",
       "      <td>3.332</td>\n",
       "      <td>0.667</td>\n",
       "      <td>0.882</td>\n",
       "      <td>...</td>\n",
       "      <td>3.870</td>\n",
       "      <td>0.933</td>\n",
       "      <td>1.009</td>\n",
       "      <td>0.484</td>\n",
       "      <td>0.570</td>\n",
       "      <td>0.391</td>\n",
       "      <td>0.080</td>\n",
       "      <td>0.117</td>\n",
       "      <td>0.064</td>\n",
       "      <td>Esquerda</td>\n",
       "    </tr>\n",
       "    <tr>\n",
       "      <th>3</th>\n",
       "      <td>3</td>\n",
       "      <td>7.740</td>\n",
       "      <td>4.040</td>\n",
       "      <td>1.711</td>\n",
       "      <td>0.948</td>\n",
       "      <td>0.437</td>\n",
       "      <td>9.387</td>\n",
       "      <td>4.137</td>\n",
       "      <td>0.904</td>\n",
       "      <td>1.085</td>\n",
       "      <td>...</td>\n",
       "      <td>4.991</td>\n",
       "      <td>1.453</td>\n",
       "      <td>1.077</td>\n",
       "      <td>0.511</td>\n",
       "      <td>0.600</td>\n",
       "      <td>0.470</td>\n",
       "      <td>0.089</td>\n",
       "      <td>0.114</td>\n",
       "      <td>0.077</td>\n",
       "      <td>Esquerda</td>\n",
       "    </tr>\n",
       "    <tr>\n",
       "      <th>4</th>\n",
       "      <td>4</td>\n",
       "      <td>10.818</td>\n",
       "      <td>5.428</td>\n",
       "      <td>2.283</td>\n",
       "      <td>1.095</td>\n",
       "      <td>0.494</td>\n",
       "      <td>14.438</td>\n",
       "      <td>4.939</td>\n",
       "      <td>1.112</td>\n",
       "      <td>1.290</td>\n",
       "      <td>...</td>\n",
       "      <td>5.849</td>\n",
       "      <td>1.990</td>\n",
       "      <td>1.126</td>\n",
       "      <td>0.523</td>\n",
       "      <td>0.598</td>\n",
       "      <td>0.550</td>\n",
       "      <td>0.098</td>\n",
       "      <td>0.110</td>\n",
       "      <td>0.089</td>\n",
       "      <td>Esquerda</td>\n",
       "    </tr>\n",
       "  </tbody>\n",
       "</table>\n",
       "<p>5 rows × 72 columns</p>\n",
       "</div>"
      ],
      "text/plain": [
       "   Unnamed: 0       0      1      2      3      4       5      6      7  \\\n",
       "0           0   3.618  0.687  0.824  0.542  0.394   4.476  2.162  0.369   \n",
       "1           1   4.341  1.421  0.931  0.643  0.385   4.857  2.668  0.470   \n",
       "2           2   5.599  2.591  1.225  0.785  0.398   6.259  3.332  0.667   \n",
       "3           3   7.740  4.040  1.711  0.948  0.437   9.387  4.137  0.904   \n",
       "4           4  10.818  5.428  2.283  1.095  0.494  14.438  4.939  1.112   \n",
       "\n",
       "       8  ...     61     62     63     64     65     66     67     68     69  \\\n",
       "0  0.583  ...  1.800  0.341  0.888  0.401  0.429  0.264  0.068  0.114  0.046   \n",
       "1  0.713  ...  2.734  0.543  0.943  0.445  0.507  0.321  0.073  0.118  0.053   \n",
       "2  0.882  ...  3.870  0.933  1.009  0.484  0.570  0.391  0.080  0.117  0.064   \n",
       "3  1.085  ...  4.991  1.453  1.077  0.511  0.600  0.470  0.089  0.114  0.077   \n",
       "4  1.290  ...  5.849  1.990  1.126  0.523  0.598  0.550  0.098  0.110  0.089   \n",
       "\n",
       "         70  \n",
       "0  Esquerda  \n",
       "1  Esquerda  \n",
       "2  Esquerda  \n",
       "3  Esquerda  \n",
       "4  Esquerda  \n",
       "\n",
       "[5 rows x 72 columns]"
      ]
     },
     "execution_count": 242,
     "metadata": {},
     "output_type": "execute_result"
    }
   ],
   "source": [
    "df=pd.read_csv('../BCI/data/bci/first.csv')\n",
    "df.head()"
   ]
  },
  {
   "cell_type": "code",
   "execution_count": 243,
   "metadata": {},
   "outputs": [
    {
     "data": {
      "text/plain": [
       "(296, 71)"
      ]
     },
     "execution_count": 243,
     "metadata": {},
     "output_type": "execute_result"
    }
   ],
   "source": [
    "df=df.drop(columns=['Unnamed: 0'])\n",
    "df.shape"
   ]
  },
  {
   "cell_type": "code",
   "execution_count": 244,
   "metadata": {},
   "outputs": [
    {
     "data": {
      "text/plain": [
       "(296, 71)"
      ]
     },
     "execution_count": 244,
     "metadata": {},
     "output_type": "execute_result"
    }
   ],
   "source": [
    "df=df.dropna(axis=0)\n",
    "df.shape"
   ]
  },
  {
   "cell_type": "code",
   "execution_count": 245,
   "metadata": {},
   "outputs": [],
   "source": [
    "theta=[str(a*5) for a in range(0,14)]\n",
    "alpha=[str(1+a*5) for a in range(0,14)]\n",
    "low_beta=[str(2+a*5) for a in range(0,14)]\n",
    "high_beta=[str(3+a*5) for a in range(0,14)]\n",
    "gamma=[str(4+a*5) for a in range(0,14)]"
   ]
  },
  {
   "cell_type": "code",
   "execution_count": 246,
   "metadata": {},
   "outputs": [],
   "source": [
    "df_theta=df.drop(columns=[str(a) for a in range(0,70) if str(a) not in theta])\n",
    "df_alpha=df.drop(columns=[str(a) for a in range(0,70) if str(a) not in alpha])\n",
    "df_low_beta=df.drop(columns=[str(a) for a in range(0,70) if str(a) not in low_beta])\n",
    "df_high_beta=df.drop(columns=[str(a) for a in range(0,70) if str(a) not in high_beta])\n",
    "df_gamma=df.drop(columns=[str(a) for a in range(0,70) if str(a) not in gamma])"
   ]
  },
  {
   "cell_type": "code",
   "execution_count": 328,
   "metadata": {},
   "outputs": [],
   "source": [
    "X=df_gamma.iloc[:,:-1].values\n",
    "y=df_gamma.iloc[:,-1].values"
   ]
  },
  {
   "cell_type": "code",
   "execution_count": 288,
   "metadata": {},
   "outputs": [],
   "source": [
    "from sklearn.ensemble import RandomForestClassifier\n",
    "pipeline=RandomForestClassifier()"
   ]
  },
  {
   "cell_type": "code",
   "execution_count": 249,
   "metadata": {},
   "outputs": [],
   "source": [
    "from sklearn.model_selection import GridSearchCV\n",
    "params = {  \n",
    "      'nthread':[4,5,6], #when use hyperthread, xgboost may become slower\n",
    "      'objective':['binary:logistic'],\n",
    "      'silent': [1,2,3],\n",
    "      'subsample': [0.8,0.9],\n",
    "      'n_estimators': [10,100,1000,10000], #number of trees, change it to 1000 for better results\n",
    "      'missing':[-999],\n",
    "#       'seed': [1337],\n",
    "      'early_stopping':[True],\n",
    "}\n"
   ]
  },
  {
   "cell_type": "code",
   "execution_count": 252,
   "metadata": {},
   "outputs": [],
   "source": [
    "from xgboost import XGBClassifier\n",
    "grid=GridSearchCV(estimator=XGBClassifier(),\n",
    "                 param_grid=params,\n",
    "                 cv=10,\n",
    "                 n_jobs=-1)"
   ]
  },
  {
   "cell_type": "code",
   "execution_count": 253,
   "metadata": {},
   "outputs": [
    {
     "data": {
      "text/plain": [
       "GridSearchCV(cv=10, error_score=nan,\n",
       "             estimator=XGBClassifier(base_score=0.5, booster='gbtree',\n",
       "                                     colsample_bylevel=1, colsample_bynode=1,\n",
       "                                     colsample_bytree=1, gamma=0,\n",
       "                                     learning_rate=0.1, max_delta_step=0,\n",
       "                                     max_depth=3, min_child_weight=1,\n",
       "                                     missing=None, n_estimators=100, n_jobs=1,\n",
       "                                     nthread=None, objective='binary:logistic',\n",
       "                                     random_state=0, reg_alpha=0, reg_lambda=1,\n",
       "                                     scale_pos_weight=1, seed=None, silent=None,\n",
       "                                     subsample=1, verbosity=1),\n",
       "             iid='deprecated', n_jobs=-1,\n",
       "             param_grid={'early_stopping': [True], 'missing': [-999],\n",
       "                         'n_estimators': [10, 100, 1000, 10000],\n",
       "                         'nthread': [4, 5, 6], 'objective': ['binary:logistic'],\n",
       "                         'silent': [1, 2, 3], 'subsample': [0.8, 0.9]},\n",
       "             pre_dispatch='2*n_jobs', refit=True, return_train_score=False,\n",
       "             scoring=None, verbose=0)"
      ]
     },
     "execution_count": 253,
     "metadata": {},
     "output_type": "execute_result"
    }
   ],
   "source": [
    "grid.fit(X,y)"
   ]
  },
  {
   "cell_type": "code",
   "execution_count": 335,
   "metadata": {},
   "outputs": [
    {
     "data": {
      "text/plain": [
       "XGBClassifier(base_score=0.5, booster='gbtree', colsample_bylevel=1,\n",
       "              colsample_bynode=1, colsample_bytree=1, early_stopping=True,\n",
       "              gamma=0, learning_rate=0.1, max_delta_step=0, max_depth=3,\n",
       "              min_child_weight=1, missing=-999, n_estimators=100, n_jobs=1,\n",
       "              nthread=4, objective='multi:softprob', random_state=0,\n",
       "              reg_alpha=0, reg_lambda=1, scale_pos_weight=1, seed=None,\n",
       "              silent=1, subsample=0.8, verbosity=1)"
      ]
     },
     "execution_count": 335,
     "metadata": {},
     "output_type": "execute_result"
    }
   ],
   "source": [
    "pipeline=grid.best_estimator_\n",
    "pipeline.fit(X,y)"
   ]
  },
  {
   "cell_type": "code",
   "execution_count": 336,
   "metadata": {},
   "outputs": [
    {
     "name": "stdout",
     "output_type": "stream",
     "text": [
      "[[57 25 16]\n",
      " [36 61  2]\n",
      " [13  8 78]]\n"
     ]
    }
   ],
   "source": [
    "from sklearn.model_selection import cross_val_predict\n",
    "from sklearn.metrics import confusion_matrix\n",
    "from sklearn.metrics import classification_report\n",
    "\n",
    "y_pred=cross_val_predict(pipeline,X,y,cv=10)\n",
    "print(confusion_matrix(y,y_pred))"
   ]
  },
  {
   "cell_type": "code",
   "execution_count": 337,
   "metadata": {},
   "outputs": [
    {
     "name": "stdout",
     "output_type": "stream",
     "text": [
      "              precision    recall  f1-score   support\n",
      "\n",
      "     Direita       0.54      0.58      0.56        98\n",
      "    Esquerda       0.65      0.62      0.63        99\n",
      "      Neutro       0.81      0.79      0.80        99\n",
      "\n",
      "    accuracy                           0.66       296\n",
      "   macro avg       0.67      0.66      0.66       296\n",
      "weighted avg       0.67      0.66      0.66       296\n",
      "\n"
     ]
    }
   ],
   "source": [
    "#Outras métricas relevantes\n",
    "print(classification_report(y,y_pred))"
   ]
  },
  {
   "cell_type": "code",
   "execution_count": 338,
   "metadata": {},
   "outputs": [],
   "source": [
    "from sklearn.feature_selection import SelectFromModel\n",
    "model=SelectFromModel(pipeline, prefit=True)"
   ]
  },
  {
   "cell_type": "code",
   "execution_count": 339,
   "metadata": {},
   "outputs": [],
   "source": [
    "X_new = model.transform(X)"
   ]
  },
  {
   "cell_type": "code",
   "execution_count": 340,
   "metadata": {},
   "outputs": [
    {
     "name": "stdout",
     "output_type": "stream",
     "text": [
      "[[69 15 14]\n",
      " [25 68  6]\n",
      " [17  2 80]]\n"
     ]
    }
   ],
   "source": [
    "y_pred=cross_val_predict(pipeline,X_new,y,cv=10)\n",
    "print(confusion_matrix(y,y_pred))"
   ]
  },
  {
   "cell_type": "code",
   "execution_count": 341,
   "metadata": {},
   "outputs": [
    {
     "name": "stdout",
     "output_type": "stream",
     "text": [
      "              precision    recall  f1-score   support\n",
      "\n",
      "     Direita       0.62      0.70      0.66        98\n",
      "    Esquerda       0.80      0.69      0.74        99\n",
      "      Neutro       0.80      0.81      0.80        99\n",
      "\n",
      "    accuracy                           0.73       296\n",
      "   macro avg       0.74      0.73      0.73       296\n",
      "weighted avg       0.74      0.73      0.73       296\n",
      "\n"
     ]
    }
   ],
   "source": [
    "#Outras métricas relevantes\n",
    "print(classification_report(y,y_pred))"
   ]
  },
  {
   "cell_type": "code",
   "execution_count": null,
   "metadata": {},
   "outputs": [],
   "source": []
  },
  {
   "cell_type": "code",
   "execution_count": null,
   "metadata": {},
   "outputs": [],
   "source": []
  }
 ],
 "metadata": {
  "kernelspec": {
   "display_name": "Python 3",
   "language": "python",
   "name": "python3"
  },
  "language_info": {
   "codemirror_mode": {
    "name": "ipython",
    "version": 3
   },
   "file_extension": ".py",
   "mimetype": "text/x-python",
   "name": "python",
   "nbconvert_exporter": "python",
   "pygments_lexer": "ipython3",
   "version": "3.7.5"
  }
 },
 "nbformat": 4,
 "nbformat_minor": 2
}
